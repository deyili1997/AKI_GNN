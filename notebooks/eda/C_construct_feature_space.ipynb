{
 "cells": [
  {
   "cell_type": "markdown",
   "metadata": {},
   "source": [
    "In this notebook, we construct feature space for all encounters. The feature type will include demographics information (age-continuous, sex-binary, race-binary, whether black), comorbidities (pre-selection, binary) and in-observation window features, including medications (pre-selection, binary), procedures (pre-selection, binary) and lab test results (pre-selection, continous values) as well as baseline SCr level (continuous).  \n",
    "\n",
    "For comorbidities and medications, we will add upper level ontology to enhance the features."
   ]
  },
  {
   "cell_type": "markdown",
   "metadata": {},
   "source": [
    "1. Literature Reviews for AKI-related Comorbidities: diabetes, cancer, HIV/AIDS, CKD (stages 1-5), hypertension, chronic liver diseases, heart failure, gastrointestinal diseases, \n",
    "2. Literature Reviews for AKI-related Medications: chemotherapy\n",
    "3. Literature Reviews for AKI-related Procedures: cardiac surgery"
   ]
  },
  {
   "cell_type": "code",
   "execution_count": 1,
   "metadata": {},
   "outputs": [],
   "source": [
    "import pandas as pd\n",
    "import numpy as np\n",
    "import sys\n",
    "import os\n",
    "sys.path.append(os.path.abspath(\"/home/lideyi/AKI_GNN/notebooks/utils\"))\n",
    "from common_var import raw_path, ct_names, pat_id_cols"
   ]
  },
  {
   "cell_type": "markdown",
   "metadata": {},
   "source": [
    "# Read Patient ID DataFrame"
   ]
  },
  {
   "cell_type": "code",
   "execution_count": 12,
   "metadata": {},
   "outputs": [
    {
     "name": "stderr",
     "output_type": "stream",
     "text": [
      "/scratch/local/50050827/ipykernel_952729/3190100297.py:2: DtypeWarning: Columns (1,2) have mixed types. Specify dtype option on import or set low_memory=False.\n",
      "  onset_df = pd.read_csv('/blue/yonghui.wu/lideyi/AKI_GNN/raw_data/onset_df_cleaned.csv')\n"
     ]
    }
   ],
   "source": [
    "# read patient id dataframe\n",
    "onset_df = pd.read_csv('/blue/yonghui.wu/lideyi/AKI_GNN/raw_data/onset_df_cleaned.csv')\n",
    "\n",
    "# format columns\n",
    "onset_df[pat_id_cols + ['SEX', 'RACE']] = onset_df[pat_id_cols + ['SEX', 'RACE']].astype(str)\n",
    "date_cols = ['ADMIT_DATE', 'DISCHARGE_DATE', 'OBSERVATION_WINDOW_START', 'PREDICTION_POINT']\n",
    "for col in date_cols:\n",
    "    onset_df[col] = pd.to_datetime(onset_df[col]).dt.date"
   ]
  },
  {
   "cell_type": "code",
   "execution_count": 13,
   "metadata": {},
   "outputs": [],
   "source": [
    "# since we already have demographic information in the onset_df\n",
    "# we can directly translate them into features\n",
    "# Convert SEX column to binary\n",
    "onset_df['SEX'] = onset_df['SEX'].apply(lambda x: 1 if x == 'M' else (0 if x == 'F' else np.random.randint(0, 2)))\n",
    "# For RACE, label Black as 1 and Others as 0\n",
    "onset_df['RACE'] = onset_df['RACE'].apply(lambda x: 1 if x == 'Black' else 0)"
   ]
  },
  {
   "cell_type": "code",
   "execution_count": null,
   "metadata": {},
   "outputs": [],
   "source": []
  }
 ],
 "metadata": {
  "kernelspec": {
   "display_name": "Python 3",
   "language": "python",
   "name": "python3"
  },
  "language_info": {
   "codemirror_mode": {
    "name": "ipython",
    "version": 3
   },
   "file_extension": ".py",
   "mimetype": "text/x-python",
   "name": "python",
   "nbconvert_exporter": "python",
   "pygments_lexer": "ipython3",
   "version": "3.9.20"
  }
 },
 "nbformat": 4,
 "nbformat_minor": 2
}
